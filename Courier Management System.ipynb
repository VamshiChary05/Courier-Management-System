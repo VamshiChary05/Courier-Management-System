{
 "cells": [
  {
   "cell_type": "code",
   "execution_count": null,
   "id": "4c276df3",
   "metadata": {},
   "outputs": [],
   "source": [
    "#1.create a dictionary of lists to store the information of shipments given in the table"
   ]
  },
  {
   "cell_type": "code",
   "execution_count": 27,
   "id": "dbdf8a2a",
   "metadata": {},
   "outputs": [
    {
     "name": "stdout",
     "output_type": "stream",
     "text": [
      "{101: {'sender': 1, 'receiver': 3, 'start date': '14-03-2020', 'Delivery Date': '25-03-2020', 'Sender_location': 'Area1', 'Receiver_location': 'Area6', 'Delivery status': 'delivered', 'Shipping cost': 198}, 102: {'sender': 4, 'receiver': 1, 'start date': '18-06-2020', 'Delivery Date': '09-07-2020', 'Sender_location': 'Area2', 'Receiver_location': 'Area4', 'Delivery status': 'delivered', 'Shipping cost': 275}, 103: {'sender': 2, 'receiver': 3, 'start date': '01-12-2020', 'Delivery Date': 'Null', 'Sender_location': 'Area5', 'Receiver_location': 'Area1', 'Delivery status': 'In-Transit', 'Shipping cost': 200}, 104: {'sender': 1, 'receiver': 5, 'start date': '23-06-2020', 'Delivery Date': '25-06-2020', 'Sender_location': 'Area1', 'Receiver_location': 'Area4', 'Delivery status': 'delivered', 'Shipping cost': 314}, 105: {'sender': 3, 'receiver': 4, 'start date': '29-08-2020', 'Delivery Date': '10-09-2020', 'Sender_location': 'Area5', 'Receiver_location': 'Area3', 'Delivery status': 'delivered', 'Shipping cost': 275}, 106: {'sender': 5, 'receiver': 2, 'start date': '28-06-2020', 'Delivery Date': 'Null', 'Sender_location': 'Area3', 'Receiver_location': 'Area1', 'Delivery status': 'In-Transit', 'Shipping cost': 270}}\n"
     ]
    }
   ],
   "source": [
    "dict1 = {101:{'sender':1, 'receiver':3,'start date': \"14-03-2020\",'Delivery Date':\"25-03-2020\", 'Sender_location':\"Area1\", 'Receiver_location':\"Area6\", 'Delivery status':\"delivered\", 'Shipping cost':198},102:{'sender':4, 'receiver':1, 'start date': \"18-06-2020\", 'Delivery Date':\"09-07-2020\", 'Sender_location':\"Area2\", 'Receiver_location':\"Area4\", 'Delivery status':\"delivered\", 'Shipping cost':275},103:{'sender':2, 'receiver':3, 'start date': \"01-12-2020\", 'Delivery Date':\"Null\", 'Sender_location':\"Area5\", 'Receiver_location':\"Area1\", 'Delivery status':\"In-Transit\", 'Shipping cost':200},104:{'sender':1, 'receiver':5, 'start date': \"23-06-2020\", 'Delivery Date':\"25-06-2020\", 'Sender_location':\"Area1\", 'Receiver_location':\"Area4\", 'Delivery status':\"delivered\", 'Shipping cost':314},105:{'sender':3, 'receiver':4, 'start date': \"29-08-2020\", 'Delivery Date':\"10-09-2020\", 'Sender_location':\"Area5\", 'Receiver_location':\"Area3\", 'Delivery status':\"delivered\", 'Shipping cost':275},106:{'sender':5, 'receiver':2, 'start date': \"28-06-2020\", 'Delivery Date':\"Null\", 'Sender_location':\"Area3\", 'Receiver_location':\"Area1\", 'Delivery status':\"In-Transit\", 'Shipping cost':270}}\n",
    "print(dict1)\n"
   ]
  },
  {
   "cell_type": "code",
   "execution_count": null,
   "id": "f55321d8",
   "metadata": {},
   "outputs": [],
   "source": [
    "#2.create a dictionary of to store the information of clients given in the table"
   ]
  },
  {
   "cell_type": "code",
   "execution_count": 28,
   "id": "10aa6df4",
   "metadata": {},
   "outputs": [
    {
     "name": "stdout",
     "output_type": "stream",
     "text": [
      "{1: 'philip', 2: 'omega 111', 3: 'ramya', 4: 'romesh', 5: 'john'}\n"
     ]
    }
   ],
   "source": [
    "dict2={1:\"philip\",2:\"omega 111\",3:\"ramya\",4:\"romesh\",5:\"john\"}\n",
    "print(dict2)"
   ]
  },
  {
   "cell_type": "code",
   "execution_count": null,
   "id": "0277c6db",
   "metadata": {},
   "outputs": [],
   "source": [
    "#3.write a code to replace client's id with their respective name in the shipment dictionary using a loop and dictionary comprehension"
   ]
  },
  {
   "cell_type": "code",
   "execution_count": 55,
   "id": "534f8545",
   "metadata": {},
   "outputs": [
    {
     "name": "stdout",
     "output_type": "stream",
     "text": [
      "{101: {'Sender': 'Phillip', 'Receiver': 'Ramya', 'Start date': '14-03-2020', 'Delivery date': '25-03-2020', 'Sender location': 'Area 1', 'Receiver location': 'Area 6', 'Delivery status': 'Delivered', 'Shipping cost': 198}, 102: {'Sender': 'Romesh', 'Receiver': 'Phillip', 'Start date': '18-06-2020', 'Delivery date': '09-07-2020', 'Sender location': 'Area 2', 'Receiver location': 'Area 4', 'Delivery status': 'Delivered', 'Shipping cost': 275}, 103: {'Sender': 'Omega lll', 'Receiver': 'Ramya', 'Start date': '01-12-2020', 'Delivery date': 'Null', 'Sender location': 'Area 5', 'Receiver location': 'Area 1', 'Delivery status': 'In Transit', 'Shipping cost': 200}, 104: {'Sender': 'Phillip', 'Receiver': 'John', 'Start date': '23-06-2020', 'Delivery date': '25-06-2020', 'Sender location': 'Area 1', 'Receiver location': 'Area 4', 'Delivery status': 'Delivered', 'Shipping cost': 314}, 105: {'Sender': 'Ramya', 'Receiver': 'Romesh', 'Start date': '29-08-2020', 'Delivery date': '10-09-2020', 'Sender location': 'Area 5', 'Receiver location': 'Area 3', 'Delivery status': 'Delivered', 'Shipping cost': 275}, 106: {'Sender': 'John', 'Receiver': 'Omega lll', 'Start date': '28-06-2020', 'Delivery date': 'Null', 'Sender location': 'Area 3', 'Receiver location': 'Area 1', 'Delivery status': 'In Transit', 'Shipping cost': 270}}\n"
     ]
    },
    {
     "data": {
      "text/html": [
       "<div>\n",
       "<style scoped>\n",
       "    .dataframe tbody tr th:only-of-type {\n",
       "        vertical-align: middle;\n",
       "    }\n",
       "\n",
       "    .dataframe tbody tr th {\n",
       "        vertical-align: top;\n",
       "    }\n",
       "\n",
       "    .dataframe thead th {\n",
       "        text-align: right;\n",
       "    }\n",
       "</style>\n",
       "<table border=\"1\" class=\"dataframe\">\n",
       "  <thead>\n",
       "    <tr style=\"text-align: right;\">\n",
       "      <th></th>\n",
       "      <th>101</th>\n",
       "      <th>102</th>\n",
       "      <th>103</th>\n",
       "      <th>104</th>\n",
       "      <th>105</th>\n",
       "      <th>106</th>\n",
       "    </tr>\n",
       "  </thead>\n",
       "  <tbody>\n",
       "    <tr>\n",
       "      <th>Sender</th>\n",
       "      <td>Phillip</td>\n",
       "      <td>Romesh</td>\n",
       "      <td>Omega lll</td>\n",
       "      <td>Phillip</td>\n",
       "      <td>Ramya</td>\n",
       "      <td>John</td>\n",
       "    </tr>\n",
       "    <tr>\n",
       "      <th>Receiver</th>\n",
       "      <td>Ramya</td>\n",
       "      <td>Phillip</td>\n",
       "      <td>Ramya</td>\n",
       "      <td>John</td>\n",
       "      <td>Romesh</td>\n",
       "      <td>Omega lll</td>\n",
       "    </tr>\n",
       "    <tr>\n",
       "      <th>Start date</th>\n",
       "      <td>14-03-2020</td>\n",
       "      <td>18-06-2020</td>\n",
       "      <td>01-12-2020</td>\n",
       "      <td>23-06-2020</td>\n",
       "      <td>29-08-2020</td>\n",
       "      <td>28-06-2020</td>\n",
       "    </tr>\n",
       "    <tr>\n",
       "      <th>Delivery date</th>\n",
       "      <td>25-03-2020</td>\n",
       "      <td>09-07-2020</td>\n",
       "      <td>Null</td>\n",
       "      <td>25-06-2020</td>\n",
       "      <td>10-09-2020</td>\n",
       "      <td>Null</td>\n",
       "    </tr>\n",
       "    <tr>\n",
       "      <th>Sender location</th>\n",
       "      <td>Area 1</td>\n",
       "      <td>Area 2</td>\n",
       "      <td>Area 5</td>\n",
       "      <td>Area 1</td>\n",
       "      <td>Area 5</td>\n",
       "      <td>Area 3</td>\n",
       "    </tr>\n",
       "    <tr>\n",
       "      <th>Receiver location</th>\n",
       "      <td>Area 6</td>\n",
       "      <td>Area 4</td>\n",
       "      <td>Area 1</td>\n",
       "      <td>Area 4</td>\n",
       "      <td>Area 3</td>\n",
       "      <td>Area 1</td>\n",
       "    </tr>\n",
       "    <tr>\n",
       "      <th>Delivery status</th>\n",
       "      <td>Delivered</td>\n",
       "      <td>Delivered</td>\n",
       "      <td>In Transit</td>\n",
       "      <td>Delivered</td>\n",
       "      <td>Delivered</td>\n",
       "      <td>In Transit</td>\n",
       "    </tr>\n",
       "    <tr>\n",
       "      <th>Shipping cost</th>\n",
       "      <td>198</td>\n",
       "      <td>275</td>\n",
       "      <td>200</td>\n",
       "      <td>314</td>\n",
       "      <td>275</td>\n",
       "      <td>270</td>\n",
       "    </tr>\n",
       "  </tbody>\n",
       "</table>\n",
       "</div>"
      ],
      "text/plain": [
       "                          101         102         103         104         105  \\\n",
       "Sender                Phillip      Romesh   Omega lll     Phillip       Ramya   \n",
       "Receiver                Ramya     Phillip       Ramya        John      Romesh   \n",
       "Start date         14-03-2020  18-06-2020  01-12-2020  23-06-2020  29-08-2020   \n",
       "Delivery date      25-03-2020  09-07-2020        Null  25-06-2020  10-09-2020   \n",
       "Sender location        Area 1      Area 2      Area 5      Area 1      Area 5   \n",
       "Receiver location      Area 6      Area 4      Area 1      Area 4      Area 3   \n",
       "Delivery status     Delivered   Delivered  In Transit   Delivered   Delivered   \n",
       "Shipping cost             198         275         200         314         275   \n",
       "\n",
       "                          106  \n",
       "Sender                   John  \n",
       "Receiver            Omega lll  \n",
       "Start date         28-06-2020  \n",
       "Delivery date            Null  \n",
       "Sender location        Area 3  \n",
       "Receiver location      Area 1  \n",
       "Delivery status    In Transit  \n",
       "Shipping cost             270  "
      ]
     },
     "execution_count": 55,
     "metadata": {},
     "output_type": "execute_result"
    }
   ],
   "source": [
    "dict1 ={101:{'Sender':1,'Receiver':3,'Start date':'14-03-2020','Delivery date':'25-03-2020','Sender location':'Area 1','Receiver location':'Area 6','Delivery status':'Delivered','Shipping cost':198}, 102:{'Sender':4,'Receiver':1,'Start date':'18-06-2020','Delivery date':'09-07-2020','Sender location':'Area 2','Receiver location':'Area 4','Delivery status':'Delivered','Shipping cost':275}, 103:{'Sender':2,'Receiver':3,'Start date':'01-12-2020','Delivery date':'Null','Sender location':'Area 5','Receiver location':'Area 1','Delivery status':'In Transit','Shipping cost':200}, 104:{'Sender':1,'Receiver':5,'Start date':'23-06-2020','Delivery date':'25-06-2020','Sender location':'Area 1','Receiver location':'Area 4','Delivery status':'Delivered','Shipping cost':314}, 105:{'Sender':3,'Receiver':4,'Start date':'29-08-2020','Delivery date':'10-09-2020','Sender location':'Area 5','Receiver location':'Area 3','Delivery status':'Delivered','Shipping cost':275}, 106:{'Sender':5,'Receiver':2,'Start date':'28-06-2020','Delivery date':'Null','Sender location':'Area 3','Receiver location':'Area 1','Delivery status':'In Transit','Shipping cost':270}}\n",
    "\n",
    "\n",
    "dict2 = {1:'Phillip',2:'Omega lll',3 :'Ramya',4:'Romesh',5:'John'}\n",
    "\n",
    "new_dict = {}\n",
    "for key, value in dict1.items():\n",
    "    new_value = {k: dict2[v] if k in ('Sender', 'Receiver') else v for k,v in value.items()}\n",
    "    new_dict[key] = new_value\n",
    "print(new_dict)\n",
    "import pandas as pd\n",
    "pd.DataFrame(new_dict)"
   ]
  },
  {
   "cell_type": "code",
   "execution_count": 31,
   "id": "b243173a",
   "metadata": {},
   "outputs": [],
   "source": [
    "#4.print all shipment details that are sent by philip"
   ]
  },
  {
   "cell_type": "code",
   "execution_count": 60,
   "id": "ea5af30b",
   "metadata": {},
   "outputs": [
    {
     "name": "stdout",
     "output_type": "stream",
     "text": [
      "[{'Sender': 'Phillip', 'Receiver': 'Ramya', 'Start date': '14-03-2020', 'Delivery date': '25-03-2020', 'Sender location': 'Area 1', 'Receiver location': 'Area 6', 'Delivery status': 'Delivered', 'Shipping cost': 198}, {'Sender': 'Phillip', 'Receiver': 'John', 'Start date': '23-06-2020', 'Delivery date': '25-06-2020', 'Sender location': 'Area 1', 'Receiver location': 'Area 4', 'Delivery status': 'Delivered', 'Shipping cost': 314}]\n"
     ]
    }
   ],
   "source": [
    "dict1 = {101: {'Sender': 'Phillip', 'Receiver': 'Ramya', 'Start date': '14-03-2020', 'Delivery date': '25-03-2020', 'Sender location': 'Area 1', 'Receiver location': 'Area 6', 'Delivery status': 'Delivered', 'Shipping cost': 198}, 102: {'Sender': 'Romesh', 'Receiver': 'Phillip', 'Start date': '18-06-2020', 'Delivery date': '09-07-2020', 'Sender location': 'Area 2', 'Receiver location': 'Area 4', 'Delivery status': 'Delivered', 'Shipping cost': 275}, 103: {'Sender': 'Omega lll', 'Receiver': 'Ramya', 'Start date': '01-12-2020', 'Delivery date': 'Null', 'Sender location': 'Area 5', 'Receiver location': 'Area 1', 'Delivery status': 'In Transit', 'Shipping cost': 200}, 104: {'Sender': 'Phillip', 'Receiver': 'John', 'Start date': '23-06-2020', 'Delivery date': '25-06-2020', 'Sender location': 'Area 1', 'Receiver location': 'Area 4', 'Delivery status': 'Delivered', 'Shipping cost': 314}, 105: {'Sender': 'Ramya', 'Receiver': 'Romesh', 'Start date': '29-08-2020', 'Delivery date': '10-09-2020', 'Sender location': 'Area 5', 'Receiver location': 'Area 3', 'Delivery status': 'Delivered', 'Shipping cost': 275}, 106: {'Sender': 'John', 'Receiver': 'Omega lll', 'Start date': '28-06-2020', 'Delivery date': 'Null', 'Sender location': 'Area 3', 'Receiver location': 'Area 1', 'Delivery status': 'In Transit', 'Shipping cost': 270}}\n",
    "phillips = list(filter(lambda value: value['Sender'] == 'Phillip',\n",
    "                       dict1.values()))\n",
    "print(phillips)"
   ]
  },
  {
   "cell_type": "code",
   "execution_count": 37,
   "id": "afa88453",
   "metadata": {},
   "outputs": [],
   "source": [
    "#5.print all shipment details that are received by ramya"
   ]
  },
  {
   "cell_type": "code",
   "execution_count": 61,
   "id": "de8b5225",
   "metadata": {},
   "outputs": [
    {
     "name": "stdout",
     "output_type": "stream",
     "text": [
      "[{'Sender': 'Phillip', 'Receiver': 'Ramya', 'Start date': '14-03-2020', 'Delivery date': '25-03-2020', 'Sender location': 'Area 1', 'Receiver location': 'Area 6', 'Delivery status': 'Delivered', 'Shipping cost': 198}, {'Sender': 'Omega lll', 'Receiver': 'Ramya', 'Start date': '01-12-2020', 'Delivery date': 'Null', 'Sender location': 'Area 5', 'Receiver location': 'Area 1', 'Delivery status': 'In Transit', 'Shipping cost': 200}]\n"
     ]
    }
   ],
   "source": [
    "dict1 = {101: {'Sender': 'Phillip', 'Receiver': 'Ramya', 'Start date': '14-03-2020', 'Delivery date': '25-03-2020', 'Sender location': 'Area 1', 'Receiver location': 'Area 6', 'Delivery status': 'Delivered', 'Shipping cost': 198}, 102: {'Sender': 'Romesh', 'Receiver': 'Phillip', 'Start date': '18-06-2020', 'Delivery date': '09-07-2020', 'Sender location': 'Area 2', 'Receiver location': 'Area 4', 'Delivery status': 'Delivered', 'Shipping cost': 275}, 103: {'Sender': 'Omega lll', 'Receiver': 'Ramya', 'Start date': '01-12-2020', 'Delivery date': 'Null', 'Sender location': 'Area 5', 'Receiver location': 'Area 1', 'Delivery status': 'In Transit', 'Shipping cost': 200}, 104: {'Sender': 'Phillip', 'Receiver': 'John', 'Start date': '23-06-2020', 'Delivery date': '25-06-2020', 'Sender location': 'Area 1', 'Receiver location': 'Area 4', 'Delivery status': 'Delivered', 'Shipping cost': 314}, 105: {'Sender': 'Ramya', 'Receiver': 'Romesh', 'Start date': '29-08-2020', 'Delivery date': '10-09-2020', 'Sender location': 'Area 5', 'Receiver location': 'Area 3', 'Delivery status': 'Delivered', 'Shipping cost': 275}, 106: {'Sender': 'John', 'Receiver': 'Omega lll', 'Start date': '28-06-2020', 'Delivery date': 'Null', 'Sender location': 'Area 3', 'Receiver location': 'Area 1', 'Delivery status': 'In Transit', 'Shipping cost': 270}}\n",
    "Ramya = list(filter(lambda value: value['Receiver'] == 'Ramya',dict1.values()))\n",
    "print(Ramya)"
   ]
  },
  {
   "cell_type": "code",
   "execution_count": null,
   "id": "8cba273b",
   "metadata": {},
   "outputs": [],
   "source": [
    "#6. Print all shipments which are in 'In-Transit' status"
   ]
  },
  {
   "cell_type": "code",
   "execution_count": 62,
   "id": "c4f8049b",
   "metadata": {},
   "outputs": [
    {
     "name": "stdout",
     "output_type": "stream",
     "text": [
      "[{'Sender': 'Omega lll', 'Receiver': 'Ramya', 'Start date': '01-12-2020', 'Delivery date': 'Null', 'Sender location': 'Area 5', 'Receiver location': 'Area 1', 'Delivery status': 'In Transit', 'Shipping cost': 200}, {'Sender': 'John', 'Receiver': 'Omega lll', 'Start date': '28-06-2020', 'Delivery date': 'Null', 'Sender location': 'Area 3', 'Receiver location': 'Area 1', 'Delivery status': 'In Transit', 'Shipping cost': 270}]\n"
     ]
    }
   ],
   "source": [
    "dict1 = {101: {'Sender': 'Phillip', 'Receiver': 'Ramya', 'Start date': '14-03-2020', 'Delivery date': '25-03-2020', 'Sender location': 'Area 1', 'Receiver location': 'Area 6', 'Delivery status': 'Delivered', 'Shipping cost': 198}, 102: {'Sender': 'Romesh', 'Receiver': 'Phillip', 'Start date': '18-06-2020', 'Delivery date': '09-07-2020', 'Sender location': 'Area 2', 'Receiver location': 'Area 4', 'Delivery status': 'Delivered', 'Shipping cost': 275}, 103: {'Sender': 'Omega lll', 'Receiver': 'Ramya', 'Start date': '01-12-2020', 'Delivery date': 'Null', 'Sender location': 'Area 5', 'Receiver location': 'Area 1', 'Delivery status': 'In Transit', 'Shipping cost': 200}, 104: {'Sender': 'Phillip', 'Receiver': 'John', 'Start date': '23-06-2020', 'Delivery date': '25-06-2020', 'Sender location': 'Area 1', 'Receiver location': 'Area 4', 'Delivery status': 'Delivered', 'Shipping cost': 314}, 105: {'Sender': 'Ramya', 'Receiver': 'Romesh', 'Start date': '29-08-2020', 'Delivery date': '10-09-2020', 'Sender location': 'Area 5', 'Receiver location': 'Area 3', 'Delivery status': 'Delivered', 'Shipping cost': 275}, 106: {'Sender': 'John', 'Receiver': 'Omega lll', 'Start date': '28-06-2020', 'Delivery date': 'Null', 'Sender location': 'Area 3', 'Receiver location': 'Area 1', 'Delivery status': 'In Transit', 'Shipping cost': 270}}\n",
    "in_transit= list(filter(lambda value: value['Delivery status'] == 'In Transit',\n",
    "                       dict1.values()))\n",
    "print(in_transit)"
   ]
  },
  {
   "cell_type": "code",
   "execution_count": 63,
   "id": "b5570bdb",
   "metadata": {},
   "outputs": [],
   "source": [
    "#7. Print all shipments which are delivered within 7 days of courier Start date"
   ]
  },
  {
   "cell_type": "code",
   "execution_count": 64,
   "id": "7df3a7f9",
   "metadata": {},
   "outputs": [
    {
     "name": "stdout",
     "output_type": "stream",
     "text": [
      "{'Sender': 'Phillip', 'Receiver': 'John', 'Start date': '23-06-2020', 'Delivery date': '25-06-2020', 'Sender location': 'Area 1', 'Receiver location': 'Area 4', 'Delivery status': 'Delivered', 'Shipping cost': 314}\n"
     ]
    }
   ],
   "source": [
    "from datetime import datetime\n",
    "\n",
    "for v in dict1.values():\n",
    "    if v[\"Delivery date\"] == \"Null\":\n",
    "        continue\n",
    "\n",
    "    start = datetime.strptime(v[\"Start date\"], \"%d-%m-%Y\")\n",
    "    delivery = datetime.strptime(v[\"Delivery date\"], \"%d-%m-%Y\")\n",
    "\n",
    "    if (delivery - start).days <= 7:\n",
    "        print(v)\n",
    "    "
   ]
  },
  {
   "cell_type": "code",
   "execution_count": 65,
   "id": "90015693",
   "metadata": {},
   "outputs": [],
   "source": [
    "#8. Print all shipments which are delivered after 15 days of courier start date or not yet been delivered."
   ]
  },
  {
   "cell_type": "code",
   "execution_count": 66,
   "id": "d8d1480a",
   "metadata": {},
   "outputs": [
    {
     "name": "stdout",
     "output_type": "stream",
     "text": [
      "{'Sender': 'Romesh', 'Receiver': 'Phillip', 'Start date': '18-06-2020', 'Delivery date': '09-07-2020', 'Sender location': 'Area 2', 'Receiver location': 'Area 4', 'Delivery status': 'Delivered', 'Shipping cost': 275}\n"
     ]
    }
   ],
   "source": [
    "for v in dict1.values():\n",
    "    if v[\"Delivery date\"] == \"Null\":\n",
    "        continue\n",
    "\n",
    "    start = datetime.strptime(v[\"Start date\"], \"%d-%m-%Y\")\n",
    "    delivery = datetime.strptime(v[\"Delivery date\"], \"%d-%m-%Y\")\n",
    "\n",
    "    if (delivery - start).days >= 15:\n",
    "        print(v)"
   ]
  }
 ],
 "metadata": {
  "kernelspec": {
   "display_name": "Python 3",
   "language": "python",
   "name": "python3"
  },
  "language_info": {
   "codemirror_mode": {
    "name": "ipython",
    "version": 3
   },
   "file_extension": ".py",
   "mimetype": "text/x-python",
   "name": "python",
   "nbconvert_exporter": "python",
   "pygments_lexer": "ipython3",
   "version": "3.8.8"
  }
 },
 "nbformat": 4,
 "nbformat_minor": 5
}
